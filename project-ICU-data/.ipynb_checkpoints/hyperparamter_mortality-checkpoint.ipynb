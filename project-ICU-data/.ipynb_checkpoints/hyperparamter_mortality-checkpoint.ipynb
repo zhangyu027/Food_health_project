{
 "cells": [
  {
   "cell_type": "code",
   "execution_count": null,
   "metadata": {},
   "outputs": [],
   "source": []
  },
  {
   "cell_type": "code",
   "execution_count": 2,
   "metadata": {},
   "outputs": [
    {
     "name": "stderr",
     "output_type": "stream",
     "text": [
      "C:\\ProgramData\\Anaconda3\\lib\\site-packages\\tqdm\\std.py:697: FutureWarning: The Panel class is removed from pandas. Accessing it from the top-level namespace will also be removed in the next version\n",
      "  from pandas import Panel\n"
     ]
    }
   ],
   "source": [
    "import numpy as np\n",
    "import pandas as pd\n",
    "from collections import Counter\n",
    "from sklearn.model_selection import train_test_split\n",
    "import tensorflow as tf\n",
    "from tensorflow.keras.callbacks import EarlyStopping\n",
    "from tensorflow.keras import regularizers\n",
    "tf.compat.v1.logging.set_verbosity(tf.compat.v1.logging.ERROR)\n",
    "tf.autograph.set_verbosity(0)\n",
    "from tqdm import tqdm\n",
    "tqdm.pandas()\n",
    "import warnings\n",
    "warnings.filterwarnings(\"ignore\", category=FutureWarning)\n",
    "import os\n",
    "from sklearn.preprocessing import PolynomialFeatures"
   ]
  },
  {
   "cell_type": "code",
   "execution_count": 2,
   "metadata": {},
   "outputs": [
    {
     "name": "stderr",
     "output_type": "stream",
     "text": [
      "Using TensorFlow backend.\n"
     ]
    }
   ],
   "source": [
    "import talos as ta"
   ]
  },
  {
   "cell_type": "markdown",
   "metadata": {},
   "source": [
    "## Load Data"
   ]
  },
  {
   "cell_type": "code",
   "execution_count": 4,
   "metadata": {},
   "outputs": [],
   "source": [
    "df_merged = pd.read_csv('output/df_merged.csv')"
   ]
  },
  {
   "cell_type": "code",
   "execution_count": null,
   "metadata": {},
   "outputs": [],
   "source": [
    "df_merged.head()"
   ]
  },
  {
   "cell_type": "code",
   "execution_count": 5,
   "metadata": {},
   "outputs": [],
   "source": [
    "from sklearn.preprocessing import StandardScaler, PowerTransformer\n",
    "stdscl = StandardScaler()\n",
    "pwrscl = PowerTransformer(method='box-cox')\n",
    "age_trans = stdscl.fit_transform(np.array(df_merged.age).reshape(-1, 1))\n",
    "age_power = pwrscl.fit_transform(np.array(df_merged.age).reshape(-1, 1))"
   ]
  },
  {
   "cell_type": "code",
   "execution_count": 6,
   "metadata": {},
   "outputs": [
    {
     "data": {
      "text/plain": [
       "(array([ 203.,  284.,  383.,  500.,  873., 1389., 1992., 1833., 1755.,\n",
       "        2093.]),\n",
       " array([-2.98071254, -2.54132311, -2.10193369, -1.66254427, -1.22315485,\n",
       "        -0.78376543, -0.34437601,  0.09501341,  0.53440283,  0.97379225,\n",
       "         1.41318167]),\n",
       " <a list of 10 Patch objects>)"
      ]
     },
     "execution_count": 6,
     "metadata": {},
     "output_type": "execute_result"
    },
    {
     "data": {
      "image/png": "[encoded data removed]",
      "text/plain": [
       "<Figure size 432x288 with 1 Axes>"
      ]
     },
     "metadata": {
      "needs_background": "light"
     },
     "output_type": "display_data"
    }
   ],
   "source": [
    "import matplotlib.pyplot as plt\n",
    "plt.hist(age_trans)"
   ]
  },
  {
   "cell_type": "code",
   "execution_count": 7,
   "metadata": {},
   "outputs": [
    {
     "data": {
      "text/plain": [
       "(array([ 487.,  549.,  767., 1213., 1287., 1597., 1557., 1308., 1127.,\n",
       "        1413.]),\n",
       " array([-2.22412619, -1.83814153, -1.45215688, -1.06617222, -0.68018757,\n",
       "        -0.29420291,  0.09178175,  0.4777664 ,  0.86375106,  1.24973571,\n",
       "         1.63572037]),\n",
       " <a list of 10 Patch objects>)"
      ]
     },
     "execution_count": 7,
     "metadata": {},
     "output_type": "execute_result"
    },
    {
     "data": {
      "image/png": "[encoded data removed]",
      "text/plain": [
       "<Figure size 432x288 with 1 Axes>"
      ]
     },
     "metadata": {
      "needs_background": "light"
     },
     "output_type": "display_data"
    }
   ],
   "source": [
    "plt.hist(age_power)"
   ]
  },
  {
   "cell_type": "code",
   "execution_count": 8,
   "metadata": {},
   "outputs": [],
   "source": [
    "from ast import literal_eval\n",
    "df_merged['dx_seq_tok'] = df_merged['dx_seq_tok'].apply(lambda x: literal_eval(x))"
   ]
  },
  {
   "cell_type": "code",
   "execution_count": 9,
   "metadata": {},
   "outputs": [],
   "source": [
    "pct_keep = 1\n",
    "thresh=35\n",
    "while pct_keep > 0.90:\n",
    "    thresh += 1\n",
    "    pct_keep = len(df_merged.dropna(thresh=thresh))/len(df_merged)\n",
    "\n",
    "df_merged.dropna(thresh=thresh, inplace=True)"
   ]
  },
  {
   "cell_type": "code",
   "execution_count": 10,
   "metadata": {},
   "outputs": [
    {
     "data": {
      "text/plain": [
       "9930"
      ]
     },
     "execution_count": 10,
     "metadata": {},
     "output_type": "execute_result"
    }
   ],
   "source": [
    "len(df_merged)"
   ]
  },
  {
   "cell_type": "code",
   "execution_count": 86,
   "metadata": {},
   "outputs": [],
   "source": [
    "from sklearn.pipeline import Pipeline\n",
    "from sklearn.preprocessing import StandardScaler\n",
    "from sklearn.impute import SimpleImputer\n",
    "from sklearn.compose import ColumnTransformer\n",
    "from sklearn.pipeline import Pipeline\n",
    "from sklearn.preprocessing import OneHotEncoder\n",
    "\n",
    "cat_encoder = OneHotEncoder()\n",
    "\n",
    "cat_attribs = ['gender','icu_admit_source','icu_stay_type', 'ethnicity']\n",
    "num_attribs = ['d_diasbp_min','h_diasbp_min',\\\n",
    "            'd_diasbp_noninvasive_min','h_diasbp_noninvasive_min',\\\n",
    "               'd_heartrate_min','h_heartrate_min','d_mbp_min','h_mbp_min','d_mbp_noninvasive_min',\\\n",
    "               'h_mbp_noninvasive_min','d_resprate_min','h_resprate_min','d_spo2_min','h_spo2_min',\\\n",
    "               'd_sysbp_min','h_sysbp_min','d_sysbp_noninvasive_min','h_sysbp_noninvasive_min',\\\n",
    "               'd_temp_min','h_temp_min','d_diasbp_max','h_diasbp_max','d_diasbp_noninvasive_max',\\\n",
    "               'h_diasbp_noninvasive_max','d_heartrate_max','h_heartrate_max','d_mbp_max',\\\n",
    "               'h_mbp_max','d_mbp_noninvasive_max','h_mbp_noninvasive_max','d_resprate_max',\\\n",
    "               'h_resprate_max','d_spo2_max','h_spo2_max','d_sysbp_max','h_sysbp_max','d_sysbp_noninvasive_max',\\\n",
    "               'h_sysbp_noninvasive_max','d_temp_max','h_temp_max','hospital_id','hospital_death',\\\n",
    "               'age','bmi','elective_surgery', 'height','weight',\\\n",
    "                'diagnosis_admit','apache_icu_death_prob','ventilated','aids','cirrhosis','diabetes_mellitus',\\\n",
    "               'hepatic_failure','immunosuppression','leukemia','lymphoma','solid_tumor_with_metastasis',\\\n",
    "               'split','d_bun_min','h_bun_min','d_calcium_min','h_calcium_min','d_creatinine_min','h_creatinine_min',\\\n",
    "               'd_glucose_min','h_glucose_min','d_hco3_min','h_hco3_min','d_hemaglobin_min','h_hemaglobin_min',\\\n",
    "               'd_hematocrit_min','h_hematocrit_min','d_platelets_min','h_platelets_min','d_potassium_min','h_potassium_min',\\\n",
    "               'd_sodium_min','h_sodium_min','d_wbc_min','h_wbc_min','d_bun_max','h_bun_max','d_calcium_max','h_calcium_max',\\\n",
    "               'd_creatinine_max','h_creatinine_max','d_glucose_max','h_glucose_max','d_hco3_max','h_hco3_max','d_hemaglobin_max',\\\n",
    "               'h_hemaglobin_max','d_hematocrit_max','h_hematocrit_max','d_platelets_max','h_platelets_max','d_potassium_max',\\\n",
    "               'h_potassium_max','d_sodium_max','h_sodium_max','d_wbc_max','h_wbc_max']\n",
    "\n",
    "num_pipeline = Pipeline([\n",
    "        ('imputer', SimpleImputer(strategy=\"median\")),\n",
    "        ('std_scaler', StandardScaler()),\n",
    "    ])\n",
    "\n",
    "full_pipeline = ColumnTransformer([\n",
    "        (\"cat\", cat_encoder, cat_attribs),\n",
    "        (\"num\", num_pipeline, num_attribs)],\n",
    "        remainder='passthrough'\n",
    "    )\n"
   ]
  },
  {
   "cell_type": "code",
   "execution_count": 15,
   "metadata": {},
   "outputs": [],
   "source": [
    "df_merged['patient_id'] = df_merged.index\n",
    "final_cols = cat_attribs + num_attribs \n",
    "df_merged = df_merged[final_cols]\n",
    "df_merged.replace([np.inf, -np.inf], np.nan, inplace=True)\n",
    "df_merged_prepared = full_pipeline.transform(df_merged,)"
   ]
  },
  {
   "cell_type": "markdown",
   "metadata": {},
   "source": [
    "## ML"
   ]
  },
  {
   "cell_type": "code",
   "execution_count": 97,
   "metadata": {},
   "outputs": [],
   "source": [
    "y = df.iloc[:,:1].astype(np.float64)"
   ]
  },
  {
   "cell_type": "code",
   "execution_count": 54,
   "metadata": {},
   "outputs": [
    {
     "data": {
      "text/plain": [
       "hospital_death    0.082252\n",
       "dtype: float64"
      ]
     },
     "execution_count": 54,
     "metadata": {},
     "output_type": "execute_result"
    }
   ],
   "source": [
    "np.mean(y)"
   ]
  },
  {
   "cell_type": "code",
   "execution_count": 90,
   "metadata": {},
   "outputs": [
    {
     "data": {
      "text/plain": [
       "hospital_death    27138\n",
       "dtype: int64"
      ]
     },
     "execution_count": 90,
     "metadata": {},
     "output_type": "execute_result"
    }
   ],
   "source": [
    "y.isnull().sum()"
   ]
  },
  {
   "cell_type": "code",
   "execution_count": 94,
   "metadata": {},
   "outputs": [],
   "source": [
    "df = df_merged.dropna(subset=['hospital_death'])"
   ]
  },
  {
   "cell_type": "code",
   "execution_count": 95,
   "metadata": {},
   "outputs": [
    {
     "data": {
      "text/plain": [
       "(62989, 107)"
      ]
     },
     "execution_count": 95,
     "metadata": {},
     "output_type": "execute_result"
    }
   ],
   "source": [
    "df.shape"
   ]
  },
  {
   "cell_type": "code",
   "execution_count": 20,
   "metadata": {},
   "outputs": [],
   "source": [
    "feature_cols = ['gender','icu_admit_source','icu_stay_type', 'ethnicity','d_diasbp_min','h_diasbp_min',\\\n",
    "            'd_diasbp_noninvasive_min','h_diasbp_noninvasive_min',\\\n",
    "               'd_heartrate_min','h_heartrate_min','d_mbp_min','h_mbp_min','d_mbp_noninvasive_min',\\\n",
    "               'h_mbp_noninvasive_min','d_resprate_min','h_resprate_min','d_spo2_min','h_spo2_min',\\\n",
    "               'd_sysbp_min','h_sysbp_min','d_sysbp_noninvasive_min','h_sysbp_noninvasive_min',\\\n",
    "               'd_temp_min','h_temp_min','d_diasbp_max','h_diasbp_max','d_diasbp_noninvasive_max',\\\n",
    "               'h_diasbp_noninvasive_max','d_heartrate_max','h_heartrate_max','d_mbp_max',\\\n",
    "               'h_mbp_max','d_mbp_noninvasive_max','h_mbp_noninvasive_max','d_resprate_max',\\\n",
    "               'h_resprate_max','d_spo2_max','h_spo2_max','d_sysbp_max','h_sysbp_max','d_sysbp_noninvasive_max',\\\n",
    "               'h_sysbp_noninvasive_max','d_temp_max','h_temp_max','hospital_id','hospital_death',\\\n",
    "               'age','bmi','elective_surgery', 'height','weight',\\\n",
    "                'diagnosis_admit','apache_icu_death_prob','ventilated','aids','cirrhosis','diabetes_mellitus',\\\n",
    "               'hepatic_failure','immunosuppression','leukemia','lymphoma','solid_tumor_with_metastasis',\\\n",
    "               'split','d_bun_min','h_bun_min','d_calcium_min','h_calcium_min','d_creatinine_min','h_creatinine_min',\\\n",
    "               'd_glucose_min','h_glucose_min','d_hco3_min','h_hco3_min','d_hemaglobin_min','h_hemaglobin_min',\\\n",
    "               'd_hematocrit_min','h_hematocrit_min','d_platelets_min','h_platelets_min','d_potassium_min','h_potassium_min',\\\n",
    "               'd_sodium_min','h_sodium_min','d_wbc_min','h_wbc_min','d_bun_max','h_bun_max','d_calcium_max','h_calcium_max',\\\n",
    "               'd_creatinine_max','h_creatinine_max','d_glucose_max','h_glucose_max','d_hco3_max','h_hco3_max','d_hemaglobin_max',\\\n",
    "               'h_hemaglobin_max','d_hematocrit_max','h_hematocrit_max','d_platelets_max','h_platelets_max','d_potassium_max',\\\n",
    "               'h_potassium_max','d_sodium_max','h_sodium_max','d_wbc_max','h_wbc_max'\n",
    "]"
   ]
  },
  {
   "cell_type": "code",
   "execution_count": 96,
   "metadata": {},
   "outputs": [],
   "source": [
    "X = df[feature_cols]"
   ]
  },
  {
   "cell_type": "code",
   "execution_count": 89,
   "metadata": {},
   "outputs": [
    {
     "data": {
      "text/plain": [
       "(90127, 107)"
      ]
     },
     "execution_count": 89,
     "metadata": {},
     "output_type": "execute_result"
    }
   ],
   "source": [
    "X.shape"
   ]
  },
  {
   "cell_type": "code",
   "execution_count": 66,
   "metadata": {},
   "outputs": [
    {
     "name": "stdout",
     "output_type": "stream",
     "text": [
      "gender               object\n",
      "icu_admit_source     object\n",
      "icu_stay_type        object\n",
      "ethnicity            object\n",
      "d_diasbp_min        float64\n",
      "                     ...   \n",
      "h_potassium_max     float64\n",
      "d_sodium_max        float64\n",
      "h_sodium_max        float64\n",
      "d_wbc_max           float64\n",
      "h_wbc_max           float64\n",
      "Length: 107, dtype: object\n"
     ]
    }
   ],
   "source": [
    "print((X.dtypes))"
   ]
  },
  {
   "cell_type": "code",
   "execution_count": 33,
   "metadata": {},
   "outputs": [],
   "source": [
    "def mortality(x_train, y_train, x_val, y_val, params):\n",
    "\n",
    "    [X_train_A, X_train_B] = x_train\n",
    "    [X_val_A, X_val_B] = x_val\n",
    "    \n",
    "    model_1 = tf.keras.Sequential()\n",
    "    \n",
    "    for i in range(params['hidden_layers']):\n",
    "        model_1.add(tf.keras.layers.Dense(params['n_units'], activation='elu'))\n",
    "        model_1.add(tf.keras.layers.Dropout(rate=params['rate']))\n",
    "    \n",
    "    model_1.add(tf.keras.layers.Dense(1, activation='sigmoid'))\n",
    "\n",
    "    model_1.compile(loss='binary_crossentropy',\n",
    "                  optimizer=tf.keras.optimizers.Adam(learning_rate=params['learning_rate']),\n",
    "                  metrics=[tf.keras.metrics.AUC()])\n",
    "\n",
    "    es1 = EarlyStopping(monitor='val_loss', mode='min', patience=20, restore_best_weights=True)\n",
    "\n",
    "    # Numcat only\n",
    "    history1 = model_1.fit(X_train_B,\n",
    "                        y_train,\n",
    "                        epochs=200,\n",
    "                        batch_size=params['batch_size'],\n",
    "                        validation_data=(X_val_B, y_val),\n",
    "                        callbacks=[es1], verbose=0)\n",
    "\n",
    "#     ## Model 2: RNN\n",
    "\n",
    "#     model_2 = tf.keras.Sequential([\n",
    "#         tf.keras.layers.Embedding(1000, params['embed_size']),\n",
    "#         tf.keras.layers.Bidirectional(tf.keras.layers.LSTM(params['LSTM_units'])),\n",
    "        \n",
    "#     ])\n",
    "    \n",
    "#     for j in range(params['rnn_hlayers']):\n",
    "#         model_2.add(tf.keras.layers.Dense(params['n_units_rnn_dnn'], activation=params['activation']))\n",
    "#         model_2.add(tf.keras.layers.Dropout(rate=params['rate']))\n",
    "        \n",
    "#     model_2.add(tf.keras.layers.Dense(1, activation='sigmoid'))\n",
    "    \n",
    "#     model_2.compile(loss='binary_crossentropy',\n",
    "#                   optimizer='adam',\n",
    "#                   metrics=[tf.keras.metrics.AUC()])\n",
    "\n",
    "\n",
    "#     es2 = EarlyStopping(monitor='val_loss', mode='min', patience=10, restore_best_weights=True)\n",
    "\n",
    "\n",
    "#     # Sequential only\n",
    "#     history2 = model_2.fit(X_train_A,\n",
    "#                         y_train,\n",
    "#                         epochs=50,\n",
    "#                         batch_size=params['batch_size'],\n",
    "#                         validation_data=(X_val_A, y_val),\n",
    "#                         callbacks=[es2], verbose=0)\n",
    "\n",
    "#     # Remove last layer of models\n",
    "\n",
    "#     model_1.pop()\n",
    "#     model_2.pop()\n",
    "\n",
    "#     ## Model 3: DNN + RNN\n",
    "\n",
    "#     input_A = tf.keras.layers.Input(shape=(100,), name='seq_input')\n",
    "#     seq_model = model_2(input_A)\n",
    "\n",
    "#     input_B = tf.keras.layers.Input(shape=(X_train_B.shape[1],), name='feature_input')\n",
    "#     catnum_model = model_1(input_B)\n",
    "\n",
    "#     concat = tf.keras.layers.Concatenate()([seq_model, catnum_model])\n",
    "    \n",
    "#     hlayers = tf.keras.Sequential()\n",
    "#     for k in range(params['comb_hlayers']):\n",
    "#         hlayers.add(tf.keras.layers.Dense(params['comb_width'], activation=params['activation']))\n",
    "#         hlayers.add(tf.keras.layers.Dropout(rate=params['rate']))\n",
    "    \n",
    "#     hidden1 = hlayers(concat)\n",
    "\n",
    "#     output = tf.keras.layers.Dense(1, name=\"output\", activation='sigmoid')(hidden1)\n",
    "#     aux_output = tf.keras.layers.Dense(1, activation='sigmoid', name=\"aux_output\")(catnum_model)\n",
    "\n",
    "#     model_3 = tf.keras.Model(inputs=[input_A, input_B], outputs=[output, aux_output])\n",
    "\n",
    "#     model_3.compile(loss=['binary_crossentropy','binary_crossentropy'],\n",
    "#                   optimizer='adam',\n",
    "#                   loss_weights=[0.9, 0.1],\n",
    "#                   metrics=[tf.keras.metrics.AUC(), 'accuracy'])\n",
    "\n",
    "#     es3 = EarlyStopping(monitor='val_loss', mode='min', patience=10, restore_best_weights=True)\n",
    "\n",
    "#     history3 = model_3.fit([X_train_A, X_train_B],\n",
    "#                         [y_train, y_train],\n",
    "#                         epochs=30,\n",
    "#                         batch_size=params['batch_size'],\n",
    "#                         validation_data=([X_val_A, X_val_B],  [y_val, y_val]),\n",
    "#                         callbacks=[es3], verbose=0)\n",
    "    \n",
    "    return history1, model_1"
   ]
  },
  {
   "cell_type": "code",
   "execution_count": 34,
   "metadata": {},
   "outputs": [],
   "source": [
    "from tensorflow.keras.activations import relu, elu\n",
    "\n",
    "# p = {\n",
    "#     'hidden_layers' : [3],\n",
    "#     'n_units' : [32],\n",
    "#     'learning_rate' : [0.001],\n",
    "#     'rate' : [0.4],\n",
    "#     'embed_size' : [16],\n",
    "#     'LSTM_units' : [32],\n",
    "#     'rnn_hlayers' : [3],\n",
    "#     'n_units_rnn_dnn' : [16],\n",
    "#     'batch_size' : [128], #test\n",
    "#     'comb_hlayers' : [1],\n",
    "#     'comb_width' : [64]\n",
    "# }\n",
    "\n",
    "p = {\n",
    "    'hidden_layers' : [1,],\n",
    "    'n_units' : [64,],\n",
    "    'learning_rate' : [0.0005,],\n",
    "    'rate' : [ 0.5],\n",
    "    'embed_size' : [32],\n",
    "    'LSTM_units' : [16],\n",
    "    'rnn_hlayers' : [2],\n",
    "    'n_units_rnn_dnn' : [16],\n",
    "    'batch_size' : [64,], #test\n",
    "    'comb_hlayers' : [2],\n",
    "    'comb_width' : [32],\n",
    "    'activation' : ['elu']\n",
    "}"
   ]
  },
  {
   "cell_type": "code",
   "execution_count": 18,
   "metadata": {},
   "outputs": [
    {
     "data": {
      "text/html": [
       "<div>\n",
       "<style scoped>\n",
       "    .dataframe tbody tr th:only-of-type {\n",
       "        vertical-align: middle;\n",
       "    }\n",
       "\n",
       "    .dataframe tbody tr th {\n",
       "        vertical-align: top;\n",
       "    }\n",
       "\n",
       "    .dataframe thead th {\n",
       "        text-align: right;\n",
       "    }\n",
       "</style>\n",
       "<table border=\"1\" class=\"dataframe\">\n",
       "  <thead>\n",
       "    <tr style=\"text-align: right;\">\n",
       "      <th></th>\n",
       "      <th>round_epochs</th>\n",
       "      <th>loss</th>\n",
       "      <th>auc</th>\n",
       "      <th>val_loss</th>\n",
       "      <th>val_auc</th>\n",
       "      <th>LSTM_units</th>\n",
       "      <th>activation</th>\n",
       "      <th>batch_size</th>\n",
       "      <th>comb_hlayers</th>\n",
       "      <th>comb_width</th>\n",
       "      <th>embed_size</th>\n",
       "      <th>hidden_layers</th>\n",
       "      <th>learning_rate</th>\n",
       "      <th>n_units</th>\n",
       "      <th>n_units_rnn_dnn</th>\n",
       "      <th>rate</th>\n",
       "      <th>rnn_hlayers</th>\n",
       "    </tr>\n",
       "  </thead>\n",
       "  <tbody>\n",
       "    <tr>\n",
       "      <th>0</th>\n",
       "      <td>149</td>\n",
       "      <td>0.426549</td>\n",
       "      <td>0.884319</td>\n",
       "      <td>0.448912</td>\n",
       "      <td>0.872402</td>\n",
       "      <td>16</td>\n",
       "      <td>elu</td>\n",
       "      <td>64</td>\n",
       "      <td>2</td>\n",
       "      <td>32</td>\n",
       "      <td>32</td>\n",
       "      <td>1</td>\n",
       "      <td>0.0005</td>\n",
       "      <td>64</td>\n",
       "      <td>16</td>\n",
       "      <td>0.5</td>\n",
       "      <td>2</td>\n",
       "    </tr>\n",
       "  </tbody>\n",
       "</table>\n",
       "</div>"
      ],
      "text/plain": [
       "   round_epochs      loss       auc  val_loss   val_auc  LSTM_units  \\\n",
       "0           149  0.426549  0.884319  0.448912  0.872402          16   \n",
       "\n",
       "  activation  batch_size  comb_hlayers  comb_width  embed_size  hidden_layers  \\\n",
       "0        elu          64             2          32          32              1   \n",
       "\n",
       "   learning_rate  n_units  n_units_rnn_dnn  rate  rnn_hlayers  \n",
       "0         0.0005       64               16   0.5            2  "
      ]
     },
     "execution_count": 18,
     "metadata": {},
     "output_type": "execute_result"
    }
   ],
   "source": [
    "# accessing the results data frame\n",
    "t.data.head()"
   ]
  },
  {
   "cell_type": "code",
   "execution_count": 6,
   "metadata": {},
   "outputs": [
    {
     "ename": "NameError",
     "evalue": "name 't' is not defined",
     "output_type": "error",
     "traceback": [
      "\u001b[1;31m---------------------------------------------------------------------------\u001b[0m",
      "\u001b[1;31mNameError\u001b[0m                                 Traceback (most recent call last)",
      "\u001b[1;32m<ipython-input-6-5e3e8bf98b5f>\u001b[0m in \u001b[0;36m<module>\u001b[1;34m\u001b[0m\n\u001b[0;32m      1\u001b[0m \u001b[1;31m# access the summary details\u001b[0m\u001b[1;33m\u001b[0m\u001b[1;33m\u001b[0m\u001b[1;33m\u001b[0m\u001b[0m\n\u001b[1;32m----> 2\u001b[1;33m \u001b[0mt\u001b[0m\u001b[1;33m.\u001b[0m\u001b[0mdetails\u001b[0m\u001b[1;33m\u001b[0m\u001b[1;33m\u001b[0m\u001b[0m\n\u001b[0m",
      "\u001b[1;31mNameError\u001b[0m: name 't' is not defined"
     ]
    }
   ],
   "source": [
    "# access the summary details\n",
    "t.details"
   ]
  },
  {
   "cell_type": "code",
   "execution_count": 20,
   "metadata": {},
   "outputs": [],
   "source": [
    "# use Scan object as input\n",
    "analyze_object = ta.Analyze(t)\n"
   ]
  },
  {
   "cell_type": "code",
   "execution_count": 21,
   "metadata": {},
   "outputs": [
    {
     "data": {
      "text/html": [
       "<div>\n",
       "<style scoped>\n",
       "    .dataframe tbody tr th:only-of-type {\n",
       "        vertical-align: middle;\n",
       "    }\n",
       "\n",
       "    .dataframe tbody tr th {\n",
       "        vertical-align: top;\n",
       "    }\n",
       "\n",
       "    .dataframe thead th {\n",
       "        text-align: right;\n",
       "    }\n",
       "</style>\n",
       "<table border=\"1\" class=\"dataframe\">\n",
       "  <thead>\n",
       "    <tr style=\"text-align: right;\">\n",
       "      <th></th>\n",
       "      <th>round_epochs</th>\n",
       "      <th>loss</th>\n",
       "      <th>auc</th>\n",
       "      <th>val_loss</th>\n",
       "      <th>val_auc</th>\n",
       "      <th>LSTM_units</th>\n",
       "      <th>activation</th>\n",
       "      <th>batch_size</th>\n",
       "      <th>comb_hlayers</th>\n",
       "      <th>comb_width</th>\n",
       "      <th>embed_size</th>\n",
       "      <th>hidden_layers</th>\n",
       "      <th>learning_rate</th>\n",
       "      <th>n_units</th>\n",
       "      <th>n_units_rnn_dnn</th>\n",
       "      <th>rate</th>\n",
       "      <th>rnn_hlayers</th>\n",
       "    </tr>\n",
       "  </thead>\n",
       "  <tbody>\n",
       "    <tr>\n",
       "      <th>0</th>\n",
       "      <td>149</td>\n",
       "      <td>0.426549</td>\n",
       "      <td>0.884319</td>\n",
       "      <td>0.448912</td>\n",
       "      <td>0.872402</td>\n",
       "      <td>16</td>\n",
       "      <td>elu</td>\n",
       "      <td>64</td>\n",
       "      <td>2</td>\n",
       "      <td>32</td>\n",
       "      <td>32</td>\n",
       "      <td>1</td>\n",
       "      <td>0.0005</td>\n",
       "      <td>64</td>\n",
       "      <td>16</td>\n",
       "      <td>0.5</td>\n",
       "      <td>2</td>\n",
       "    </tr>\n",
       "  </tbody>\n",
       "</table>\n",
       "</div>"
      ],
      "text/plain": [
       "   round_epochs      loss       auc  val_loss   val_auc  LSTM_units  \\\n",
       "0           149  0.426549  0.884319  0.448912  0.872402          16   \n",
       "\n",
       "  activation  batch_size  comb_hlayers  comb_width  embed_size  hidden_layers  \\\n",
       "0        elu          64             2          32          32              1   \n",
       "\n",
       "   learning_rate  n_units  n_units_rnn_dnn  rate  rnn_hlayers  \n",
       "0         0.0005       64               16   0.5            2  "
      ]
     },
     "execution_count": 21,
     "metadata": {},
     "output_type": "execute_result"
    }
   ],
   "source": [
    "# access the dataframe with the results\n",
    "analyze_object.data"
   ]
  },
  {
   "cell_type": "code",
   "execution_count": 22,
   "metadata": {},
   "outputs": [
    {
     "data": {
      "text/plain": [
       "0.8724020719528198"
      ]
     },
     "execution_count": 22,
     "metadata": {},
     "output_type": "execute_result"
    }
   ],
   "source": [
    "\n",
    "# get the highest result for any metric\n",
    "analyze_object.high('val_auc')\n"
   ]
  },
  {
   "cell_type": "code",
   "execution_count": 23,
   "metadata": {},
   "outputs": [
    {
     "data": {
      "image/png": "[encoded data removed]",
      "text/plain": [
       "<Figure size 720x475.2 with 1 Axes>"
      ]
     },
     "metadata": {},
     "output_type": "display_data"
    }
   ],
   "source": [
    "# a regression plot for two dimensions \n",
    "analyze_object.plot_regs('val_auc', 'val_loss')"
   ]
  },
  {
   "cell_type": "code",
   "execution_count": 24,
   "metadata": {},
   "outputs": [],
   "source": [
    "# heatmap correlation\n",
    "# analyze_object.plot_corr('val_output_loss', ['auc', 'loss', 'val_loss'])\n"
   ]
  },
  {
   "cell_type": "code",
   "execution_count": 25,
   "metadata": {},
   "outputs": [],
   "source": [
    "res = analyze_object.data"
   ]
  },
  {
   "cell_type": "code",
   "execution_count": 26,
   "metadata": {},
   "outputs": [
    {
     "data": {
      "text/html": [
       "<div>\n",
       "<style scoped>\n",
       "    .dataframe tbody tr th:only-of-type {\n",
       "        vertical-align: middle;\n",
       "    }\n",
       "\n",
       "    .dataframe tbody tr th {\n",
       "        vertical-align: top;\n",
       "    }\n",
       "\n",
       "    .dataframe thead th {\n",
       "        text-align: right;\n",
       "    }\n",
       "</style>\n",
       "<table border=\"1\" class=\"dataframe\">\n",
       "  <thead>\n",
       "    <tr style=\"text-align: right;\">\n",
       "      <th></th>\n",
       "      <th>round_epochs</th>\n",
       "      <th>loss</th>\n",
       "      <th>auc</th>\n",
       "      <th>val_loss</th>\n",
       "      <th>val_auc</th>\n",
       "      <th>LSTM_units</th>\n",
       "      <th>activation</th>\n",
       "      <th>batch_size</th>\n",
       "      <th>comb_hlayers</th>\n",
       "      <th>comb_width</th>\n",
       "      <th>embed_size</th>\n",
       "      <th>hidden_layers</th>\n",
       "      <th>learning_rate</th>\n",
       "      <th>n_units</th>\n",
       "      <th>n_units_rnn_dnn</th>\n",
       "      <th>rate</th>\n",
       "      <th>rnn_hlayers</th>\n",
       "    </tr>\n",
       "  </thead>\n",
       "  <tbody>\n",
       "    <tr>\n",
       "      <th>0</th>\n",
       "      <td>149</td>\n",
       "      <td>0.426549</td>\n",
       "      <td>0.884319</td>\n",
       "      <td>0.448912</td>\n",
       "      <td>0.872402</td>\n",
       "      <td>16</td>\n",
       "      <td>elu</td>\n",
       "      <td>64</td>\n",
       "      <td>2</td>\n",
       "      <td>32</td>\n",
       "      <td>32</td>\n",
       "      <td>1</td>\n",
       "      <td>0.0005</td>\n",
       "      <td>64</td>\n",
       "      <td>16</td>\n",
       "      <td>0.5</td>\n",
       "      <td>2</td>\n",
       "    </tr>\n",
       "  </tbody>\n",
       "</table>\n",
       "</div>"
      ],
      "text/plain": [
       "   round_epochs      loss       auc  val_loss   val_auc  LSTM_units  \\\n",
       "0           149  0.426549  0.884319  0.448912  0.872402          16   \n",
       "\n",
       "  activation  batch_size  comb_hlayers  comb_width  embed_size  hidden_layers  \\\n",
       "0        elu          64             2          32          32              1   \n",
       "\n",
       "   learning_rate  n_units  n_units_rnn_dnn  rate  rnn_hlayers  \n",
       "0         0.0005       64               16   0.5            2  "
      ]
     },
     "execution_count": 26,
     "metadata": {},
     "output_type": "execute_result"
    }
   ],
   "source": [
    "res.sort_values(by='val_loss', ascending=True)"
   ]
  },
  {
   "cell_type": "code",
   "execution_count": 27,
   "metadata": {},
   "outputs": [],
   "source": [
    "import seaborn as sns"
   ]
  },
  {
   "cell_type": "code",
   "execution_count": 28,
   "metadata": {},
   "outputs": [],
   "source": [
    "heatmap1_data = pd.pivot_table(res, values='val_loss', \n",
    "                     index=['learning_rate'], \n",
    "                     columns='batch_size')"
   ]
  },
  {
   "cell_type": "code",
   "execution_count": 29,
   "metadata": {},
   "outputs": [
    {
     "data": {
      "text/plain": [
       "<matplotlib.axes._subplots.AxesSubplot at 0x1a3ba40a58>"
      ]
     },
     "execution_count": 29,
     "metadata": {},
     "output_type": "execute_result"
    },
    {
     "data": {
      "image/png": "[encoded data removed]",
      "text/plain": [
       "<Figure size 432x288 with 2 Axes>"
      ]
     },
     "metadata": {},
     "output_type": "display_data"
    }
   ],
   "source": [
    "sns.heatmap(heatmap1_data, cmap='jet')"
   ]
  }
 ],
 "metadata": {
  "kernelspec": {
   "display_name": "Python 3",
   "language": "python",
   "name": "python3"
  },
  "language_info": {
   "codemirror_mode": {
    "name": "ipython",
    "version": 3
   },
   "file_extension": ".py",
   "mimetype": "text/x-python",
   "name": "python",
   "nbconvert_exporter": "python",
   "pygments_lexer": "ipython3",
   "version": "3.8.5"
  }
 },
 "nbformat": 4,
 "nbformat_minor": 4
}
